{
 "cells": [
  {
   "cell_type": "code",
   "execution_count": 2,
   "metadata": {},
   "outputs": [],
   "source": [
    "import numpy as np\n",
    "import matplotlib.pyplot as plt\n",
    "import math"
   ]
  },
  {
   "cell_type": "markdown",
   "metadata": {},
   "source": [
    "***\n",
    "# **FUNCTIONS**"
   ]
  },
  {
   "cell_type": "code",
   "execution_count": 3,
   "metadata": {},
   "outputs": [],
   "source": [
    "#Creates a new trimmed file of the desired data file\n",
    "#If desired, can delete a column from the file if this is not necessary for the final trimmed file\n",
    "def trim_SSVEP_data(data_path, delete_col=None):\n",
    "    new_lineas = []\n",
    "\n",
    "    with open(data_path) as new_file:\n",
    "        for index, linea in enumerate(new_file):\n",
    "            \n",
    "            if index > 4:\n",
    "                linea_lista = linea.split(\"\\t\")\n",
    "                \n",
    "                if not delete_col == None and type(delete_col) != int:\n",
    "                    print(f\"If you want to delete a column from the file please enter a valid integer value [0 - {len(linea_lista)-1}]\")\n",
    "                    return -1\n",
    "                elif not delete_col == None and delete_col >= len(linea_lista):\n",
    "                    print(f\"If you want to delete a column from the file please enter a valid integer value [0 - {len(linea_lista)-1}]\")\n",
    "                    return -1\n",
    "                elif not delete_col == None:\n",
    "                    del linea_lista[delete_col]\n",
    "                \n",
    "                if linea_lista[2] != \"0\":\n",
    "                    string_linea = \"\"\n",
    "                    linea_lista[1] = str(int(float(linea_lista[1].rsplit(\"e+12\", 1)[0])*math.pow(10, 12)))\n",
    "\n",
    "                    for dato in linea_lista:\n",
    "                        if not dato == \"\\n\":\n",
    "                            string_linea += dato + \"\\t\"\n",
    "                        else:\n",
    "                            string_linea += dato\n",
    "                    new_lineas.append(string_linea)\n",
    "    \n",
    "    path_index = data_path.rfind(\"\\\\\") + 1\n",
    "    new_file_name = data_path[path_index:].split(\".\")\n",
    "    \n",
    "    data_file = data_path[0:path_index] + new_file_name[0] + \"_trimmed.\" + new_file_name[1]\n",
    "    final_file = open(data_file, \"w\")\n",
    "    final_file.writelines(new_lineas)\n",
    "    final_file.close()"
   ]
  },
  {
   "cell_type": "code",
   "execution_count": 4,
   "metadata": {},
   "outputs": [],
   "source": [
    "#Creates a new trimmed file of the desired eye tracker file\n",
    "def trim_webGazer_data(data_path):\n",
    "    new_lineas = []\n",
    "\n",
    "    with open(data_path) as new_file:\n",
    "        for index, linea in enumerate(new_file):\n",
    "\n",
    "            if index > 1:\n",
    "                linea_lista = linea.split(\" \")\n",
    "                del linea_lista[0]\n",
    "                del linea_lista[1]\n",
    "                del linea_lista[2]\n",
    "                \n",
    "                linea_lista[2] = linea_lista[2].rsplit(\"\\n\", 1)[0]\n",
    "\n",
    "                string_linea = \"\"\n",
    "                for dato in range(len(linea_lista)):\n",
    "                    if dato != 2:\n",
    "                        string_linea += linea_lista[dato] + \"\\t\"\n",
    "                    else:\n",
    "                        string_linea += linea_lista[dato] + \"\\t\\n\"\n",
    "                new_lineas.append(string_linea)\n",
    "\n",
    "    path_index = data_path.rfind(\"\\\\\") + 1\n",
    "    new_file_name = data_path[path_index:].split(\".\")\n",
    "\n",
    "    data_file = data_path[0:path_index] + new_file_name[0] + \" trimmed.\" + new_file_name[1]\n",
    "    final_file = open(data_file, \"w\")\n",
    "    final_file.writelines(new_lineas)\n",
    "    final_file.close()"
   ]
  },
  {
   "cell_type": "code",
   "execution_count": 5,
   "metadata": {},
   "outputs": [],
   "source": [
    "#Gets the centroids of the gaze for each mark\n",
    "#Receives as inputs the path of the file with the data from the experiment and the path of the file with the positions of the gaze\n",
    "\n",
    "#RETURNS 2 LISTS\n",
    "\n",
    "#1. Returns a list of 5 lists (representing the marks 101-105), each having a x list and y list, representing 8 points per mark\n",
    "#2. Returns a list of 40 lists containing each the points gazed by webgazer, the timestamps of each point and the selected stimulus during that lapse of time.\n",
    "#   Can be used in function get_stimulus_time_gaze\n",
    "def get_marks_centroids(experiment_file, positions_file=None):\n",
    "   \n",
    "    stages = []\n",
    "    with open(experiment_file) as exp:\n",
    "        for line in exp:\n",
    "            line_list = line.split(\"\\t\")\n",
    "\n",
    "            if 101 <= int(line_list[2]) <= 200:\n",
    "                del line_list[3]\n",
    "                line_list[1] = int(line_list[1])\n",
    "                stages.append(line_list)\n",
    "\n",
    "    stages_pointer = 0\n",
    "    positions = []\n",
    "    with open(positions_file) as pos:\n",
    "        collect_data = False\n",
    "\n",
    "        for line in pos:\n",
    "            if stages_pointer >= len(stages):\n",
    "                break\n",
    "\n",
    "            line_list = line.split(\"\\t\")\n",
    "\n",
    "            x = float(line_list[0])\n",
    "            y = float(line_list[1])\n",
    "            time = int(line_list[2])\n",
    "            time_stages = stages[stages_pointer][1]\n",
    "            del line_list[3]\n",
    "\n",
    "            if not collect_data and time > time_stages:\n",
    "                positions.append([[x], [y], [time], stages[stages_pointer][2]])\n",
    "                collect_data = True\n",
    "                stages_pointer += 1\n",
    "\n",
    "            elif collect_data == True and time < time_stages:\n",
    "                positions[int(stages_pointer/2)][0].append(x)\n",
    "                positions[int(stages_pointer/2)][1].append(y)\n",
    "                positions[int(stages_pointer/2)][2].append(time)\n",
    "            \n",
    "            elif collect_data == True and time > time_stages:\n",
    "                collect_data = False\n",
    "                stages_pointer += 1\n",
    "    \n",
    "    marks_centroids =[[[],[]],[[],[]],[[],[]],[[],[]],[[],[]]]\n",
    "    for stimulus in range(len(positions)):\n",
    "        center_x = sum(positions[stimulus][0])/len(positions[stimulus][0])\n",
    "        center_y = sum(positions[stimulus][1])/len(positions[stimulus][1])\n",
    "        mark = positions[stimulus][3]\n",
    "\n",
    "        if mark == \"101\":\n",
    "            marks_centroids[0][0].append(center_x)\n",
    "            marks_centroids[0][1].append(center_y)\n",
    "        elif mark == \"102\":\n",
    "            marks_centroids[1][0].append(center_x)\n",
    "            marks_centroids[1][1].append(center_y)\n",
    "        elif mark == \"103\":\n",
    "            marks_centroids[2][0].append(center_x)\n",
    "            marks_centroids[2][1].append(center_y)\n",
    "        elif mark == \"104\":\n",
    "            marks_centroids[3][0].append(center_x)\n",
    "            marks_centroids[3][1].append(center_y)\n",
    "        else:\n",
    "            marks_centroids[4][0].append(center_x)\n",
    "            marks_centroids[4][1].append(center_y)\n",
    "\n",
    "    return marks_centroids, positions"
   ]
  },
  {
   "cell_type": "code",
   "execution_count": 17,
   "metadata": {},
   "outputs": [],
   "source": [
    "#Plots the centroids of the points passed. Needs the 1st output list of get_marks_centroids\n",
    "def plot_centroids(marks_centroids, title=\"\", plot_stimulus=False):\n",
    "    set_title = \"\"\n",
    "    if title == \"\":\n",
    "        set_title = \"Gaze data of the experiment\"\n",
    "    else:\n",
    "        set_title = str(title)\n",
    "\n",
    "    x_coordinates = []\n",
    "    y_coordinates = []\n",
    "    mean_x = []\n",
    "    mean_y = []\n",
    "\n",
    "    for mark in range(len(marks_centroids)):\n",
    "        \n",
    "        for axis in range(len(marks_centroids[mark])):\n",
    "            n_points = len(marks_centroids[mark][axis])\n",
    "            \n",
    "            if axis == 0:\n",
    "                mean_x.append(sum(marks_centroids[mark][axis])/n_points)\n",
    "            else:\n",
    "                mean_y.append((sum(marks_centroids[mark][axis])+103*n_points)/n_points)\n",
    "            \n",
    "            for data in range(len(marks_centroids[mark][axis])):\n",
    "                if axis == 0:\n",
    "                    x_coordinates.append(marks_centroids[mark][axis][data])\n",
    "                else:\n",
    "                    y_coordinates.append(marks_centroids[mark][axis][data]+103)\n",
    "\n",
    "    fig = plt.figure()\n",
    "    fig.set_facecolor(\"0.9\")\n",
    "\n",
    "    plt.xlim(0, 1920)\n",
    "    plt.ylim(1080-(40+18+120)-(40+25), 0)\n",
    "\n",
    "    plt.title(set_title)\n",
    "    plt.xlabel(\"X\")\n",
    "    plt.ylabel(\"Y\")\n",
    "\n",
    "    plt.scatter(x_coordinates[0:7], y_coordinates[0:7], color='green')\n",
    "    plt.scatter(x_coordinates[8:15], y_coordinates[8:15], color='black')\n",
    "    plt.scatter(x_coordinates[16:23], y_coordinates[16:23], color='purple')\n",
    "    plt.scatter(x_coordinates[24:31], y_coordinates[24:31], color='grey')\n",
    "    plt.scatter(x_coordinates[32:39], y_coordinates[32:39])\n",
    "    plt.scatter(mean_x, mean_y, color='red');\n",
    "\n",
    "    if plot_stimulus:\n",
    "        x_points = [660, 960, 1260, 960, 960]\n",
    "        y_points = [484, 184, 484, 784, 484]\n",
    "        plt.scatter(x_points, y_points, color='orange')\n",
    "\n",
    "    plt.show()\n",
    "\n",
    "    return None"
   ]
  },
  {
   "cell_type": "code",
   "execution_count": 7,
   "metadata": {},
   "outputs": [],
   "source": [
    "#Gets the average time that webgazer needed to focus inside each stimulus area\n",
    "#Change acceptance_rate [0-1] to select how strict the gaze rate focus should be (focus_points/n_points for each window of points)\n",
    "#Change window_len [1~60] to select how many points will be evauated for the gaze rate focus\n",
    "\n",
    "#RETURNS 2 LISTS\n",
    "#1. Returns a list containing the average time in ms that webgazer needed to focus inside each stimulus area and the average of all 5 of this times (only averages times != 0)\n",
    "#2. Returns a lits containing how many times webgazer was able to focus inside each stimulus\n",
    "from cmath import nan\n",
    "\n",
    "\n",
    "def get_stimulus_time_gaze(data, acceptance_rate=0.7, window_len=10):\n",
    "    if not type(data) == list:\n",
    "        print(\"Please enter a valid data input. List of shape (40, 4) from get_marks_centroids\")\n",
    "        return -1\n",
    "    elif not len(data) == 40 and not 101 <= int(data[0][3]) <= 105:\n",
    "        print(\"Please enter a valid data input. List of shape (40, 4) from get_marks_centroids\")\n",
    "        return -1\n",
    "    \n",
    "    #Each array inside stimulus_limit indicates --> [x_left, y_up, x_right, y_down] of the vertices of the stimulus\n",
    "    stimulus_limit = {\"101\":[600, 424, 720, 544], \n",
    "                      \"102\":[900, 124, 1020, 244],\n",
    "                      \"103\":[1200, 424, 1320, 544],\n",
    "                      \"104\":[900, 724, 720, 844],\n",
    "                      \"105\":[900, 424, 1020, 544]}\n",
    "    avg_stimulus_time_gaze = np.zeros(5)\n",
    "    \n",
    "    n_acceptances = np.full(5, 8)\n",
    "\n",
    "    for mark in range(len(data)):\n",
    "        \n",
    "        local_window_len = int(window_len)\n",
    "        if len(data[mark][0]) <= local_window_len:\n",
    "            print(f\"Parameter window_len was too large for number of points {data[mark][0]} in mark {mark}, setting window_len to number of points\\n\")\n",
    "            local_window_len = len(data[mark][0])\n",
    "        elif local_window_len <= 0:\n",
    "            print(f\"Parameter window_len is too small, please select a window_len of at least 1\")\n",
    "            return -1\n",
    "\n",
    "        for init_window in range(len(data[mark][0])):\n",
    "            end_window = init_window + local_window_len\n",
    "            stimulus_index = list(stimulus_limit).index(data[mark][3])\n",
    "            \n",
    "            if end_window >= len(data[mark][0]):\n",
    "                n_acceptances[stimulus_index] -= 1\n",
    "                break\n",
    "\n",
    "            x_windowed = data[mark][0][init_window:end_window]\n",
    "            y_windowed = data[mark][1][init_window:end_window]\n",
    "            limits = stimulus_limit.get(data[mark][3])\n",
    "            local_acc_rate = 0\n",
    "            \n",
    "            for x, y in zip(x_windowed, y_windowed):\n",
    "                if limits[0] <= x <= limits[2] and limits[1] <= y+103 <= limits[3]:\n",
    "                    local_acc_rate += 1\n",
    "            \n",
    "            local_acc_rate /= local_window_len\n",
    "            if local_acc_rate >= acceptance_rate:\n",
    "                avg_time = data[mark][2][end_window] - data[mark][2][0]\n",
    "                avg_stimulus_time_gaze[stimulus_index] += avg_time\n",
    "                break\n",
    "    \n",
    "    avg_stimulus_time_gaze = np.divide(avg_stimulus_time_gaze, n_acceptances)\n",
    "\n",
    "    avg_time_general = 0\n",
    "    not_zeros = 0\n",
    "    for time in avg_stimulus_time_gaze:\n",
    "        if not time == nan:\n",
    "            avg_time_general += time\n",
    "            not_zeros += 1\n",
    "    \n",
    "    if not not_zeros == 0:\n",
    "        avg_time_general /= not_zeros\n",
    "    \n",
    "    avg_stimulus_time_gaze = list(avg_stimulus_time_gaze)\n",
    "    avg_stimulus_time_gaze.append(avg_time_general)\n",
    "    n_acceptances = list(n_acceptances)\n",
    "\n",
    "    return avg_stimulus_time_gaze, n_acceptances"
   ]
  },
  {
   "cell_type": "markdown",
   "metadata": {},
   "source": [
    "***\n",
    "### Run to trim and get the time and timestamp of the marks from the **data** files\n",
    "\n",
    "- Change the `path` to get the correct data file trimmed\n",
    "\n",
    "- Change the `delete_col` for eliminating the desired column"
   ]
  },
  {
   "cell_type": "code",
   "execution_count": 7,
   "metadata": {},
   "outputs": [],
   "source": [
    "trim_SSVEP_data(\"D:\\\\eye-tracker\\\\Webgazer data\\\\S1\\\\data_mOO.txt\", delete_col=2)\n",
    "trim_SSVEP_data(\"D:\\\\eye-tracker\\\\Webgazer data\\\\S1\\\\data_mCB.txt\")"
   ]
  },
  {
   "cell_type": "markdown",
   "metadata": {},
   "source": [
    "***\n",
    "### Run to trim the **eye tracker** files\n",
    "\n",
    "- Change the `path` to get the correct data file trimmed"
   ]
  },
  {
   "cell_type": "code",
   "execution_count": 8,
   "metadata": {},
   "outputs": [],
   "source": [
    "trim_webGazer_data(\"D:\\\\eye-tracker\\\\Webgazer data\\\\S1\\\\eye tracker mOO.txt\")\n",
    "trim_webGazer_data(\"D:\\\\eye-tracker\\\\Webgazer data\\\\S1\\\\eye tracker mCB.txt\")"
   ]
  },
  {
   "cell_type": "markdown",
   "metadata": {},
   "source": [
    "***\n",
    "### Run to plot the centroids of the gazes throghout the experiment\n",
    "\n",
    "- Change the `experiment_file` to get the data from the desired experiment\n",
    "\n",
    "- Change the `positions_file` to get the data from the desired eye tracker file"
   ]
  },
  {
   "cell_type": "code",
   "execution_count": 21,
   "metadata": {},
   "outputs": [
    {
     "data": {
      "image/png": "[encoded data removed]",
      "text/plain": [
       "<Figure size 432x288 with 1 Axes>"
      ]
     },
     "metadata": {},
     "output_type": "display_data"
    }
   ],
   "source": [
    "marks_pos, positions = get_marks_centroids(\"D:\\\\eye-tracker\\\\Webgazer data\\\\S1\\\\data_mOO_trimmed.txt\", \"D:\\\\eye-tracker\\\\Webgazer data\\\\S1\\\\eye tracker mOO trimmed.txt\")\n",
    "plot_centroids(marks_pos, \"Gaze data of the mOO experiment\", plot_stimulus=True)"
   ]
  },
  {
   "cell_type": "code",
   "execution_count": 22,
   "metadata": {},
   "outputs": [
    {
     "name": "stdout",
     "output_type": "stream",
     "text": [
      "Avg response time per mark: [1229.0, 1988.0, 3405.0, nan, 3027.0, nan] ms\n",
      "Valid focused gazes per mark: [3, 1, 3, 0, 4]\n",
      "\n",
      "Avg response time per mark: [1258.6666666666667, 2072.0, 883.0, nan, 2889.3333333333335, nan] ms\n",
      "Valid focused gazes per mark: [3, 1, 1, 0, 3]\n",
      "\n",
      "Avg response time per mark: [1344.6666666666667, 2159.0, nan, nan, 3373.6666666666665, nan] ms\n",
      "Valid focused gazes per mark: [3, 1, 0, 0, 3]\n",
      "\n",
      "Avg response time per mark: [1434.6666666666667, 2246.0, nan, nan, 3665.0, nan] ms\n",
      "Valid focused gazes per mark: [3, 1, 0, 0, 3]\n",
      "\n",
      "Avg response time per mark: [1490.3333333333333, 2330.0, nan, nan, 3868.5, nan] ms\n",
      "Valid focused gazes per mark: [3, 1, 0, 0, 2]\n",
      "\n"
     ]
    },
    {
     "name": "stderr",
     "output_type": "stream",
     "text": [
      "C:\\Users\\Kaiko99\\AppData\\Local\\Temp\\ipykernel_34028\\1135402372.py:62: RuntimeWarning: invalid value encountered in true_divide\n",
      "  avg_stimulus_time_gaze = np.divide(avg_stimulus_time_gaze, n_acceptances)\n"
     ]
    }
   ],
   "source": [
    "avg_response_time, on_focus_gazes = get_stimulus_time_gaze(positions, 0.6)\n",
    "print(f\"Avg response time per mark: {avg_response_time} ms\\nValid focused gazes per mark: {on_focus_gazes}\\n\")\n",
    "avg_response_time, on_focus_gazes = get_stimulus_time_gaze(positions)\n",
    "print(f\"Avg response time per mark: {avg_response_time} ms\\nValid focused gazes per mark: {on_focus_gazes}\\n\")\n",
    "avg_response_time, on_focus_gazes = get_stimulus_time_gaze(positions, 0.8)\n",
    "print(f\"Avg response time per mark: {avg_response_time} ms\\nValid focused gazes per mark: {on_focus_gazes}\\n\")\n",
    "avg_response_time, on_focus_gazes = get_stimulus_time_gaze(positions, 0.9)\n",
    "print(f\"Avg response time per mark: {avg_response_time} ms\\nValid focused gazes per mark: {on_focus_gazes}\\n\")\n",
    "avg_response_time, on_focus_gazes = get_stimulus_time_gaze(positions, 1.0)\n",
    "print(f\"Avg response time per mark: {avg_response_time} ms\\nValid focused gazes per mark: {on_focus_gazes}\\n\")"
   ]
  },
  {
   "cell_type": "code",
   "execution_count": 23,
   "metadata": {},
   "outputs": [
    {
     "data": {
      "image/png": "[encoded data removed]",
      "text/plain": [
       "<Figure size 432x288 with 1 Axes>"
      ]
     },
     "metadata": {},
     "output_type": "display_data"
    }
   ],
   "source": [
    "marks_pos, positions = get_marks_centroids(\"D:\\\\eye-tracker\\\\Webgazer data\\\\S1\\\\data_mCB_trimmed.txt\", \"D:\\\\eye-tracker\\\\Webgazer data\\\\S1\\\\eye tracker mCB trimmed.txt\")\n",
    "plot_centroids(marks_pos, \"Gaze data of the mBC experiment\", plot_stimulus=True)\n"
   ]
  },
  {
   "cell_type": "code",
   "execution_count": 24,
   "metadata": {},
   "outputs": [
    {
     "name": "stdout",
     "output_type": "stream",
     "text": [
      "Avg response time per mark: [848.6666666666666, nan, 2586.5, nan, 1085.75, nan] ms\n",
      "Valid focused gazes per mark: [3, 0, 2, 0, 4]\n",
      "\n",
      "Avg response time per mark: [874.3333333333334, nan, 2669.0, nan, 1262.0, nan] ms\n",
      "Valid focused gazes per mark: [3, 0, 2, 0, 3]\n",
      "\n",
      "Avg response time per mark: [1384.0, nan, 2333.0, nan, 1697.3333333333333, nan] ms\n",
      "Valid focused gazes per mark: [3, 0, 1, 0, 3]\n",
      "\n",
      "Avg response time per mark: [2078.0, nan, 2416.0, nan, 1888.3333333333333, nan] ms\n",
      "Valid focused gazes per mark: [3, 0, 1, 0, 3]\n",
      "\n",
      "Avg response time per mark: [1642.5, nan, 2495.0, nan, 2022.3333333333333, nan] ms\n",
      "Valid focused gazes per mark: [2, 0, 1, 0, 3]\n",
      "\n"
     ]
    },
    {
     "name": "stderr",
     "output_type": "stream",
     "text": [
      "C:\\Users\\Kaiko99\\AppData\\Local\\Temp\\ipykernel_34028\\1135402372.py:62: RuntimeWarning: invalid value encountered in true_divide\n",
      "  avg_stimulus_time_gaze = np.divide(avg_stimulus_time_gaze, n_acceptances)\n"
     ]
    }
   ],
   "source": [
    "avg_response_time, on_focus_gazes = get_stimulus_time_gaze(positions, 0.6)\n",
    "print(f\"Avg response time per mark: {avg_response_time} ms\\nValid focused gazes per mark: {on_focus_gazes}\\n\")\n",
    "avg_response_time, on_focus_gazes = get_stimulus_time_gaze(positions)\n",
    "print(f\"Avg response time per mark: {avg_response_time} ms\\nValid focused gazes per mark: {on_focus_gazes}\\n\")\n",
    "avg_response_time, on_focus_gazes = get_stimulus_time_gaze(positions, 0.8)\n",
    "print(f\"Avg response time per mark: {avg_response_time} ms\\nValid focused gazes per mark: {on_focus_gazes}\\n\")\n",
    "avg_response_time, on_focus_gazes = get_stimulus_time_gaze(positions, 0.9)\n",
    "print(f\"Avg response time per mark: {avg_response_time} ms\\nValid focused gazes per mark: {on_focus_gazes}\\n\")\n",
    "avg_response_time, on_focus_gazes = get_stimulus_time_gaze(positions, 1.0)\n",
    "print(f\"Avg response time per mark: {avg_response_time} ms\\nValid focused gazes per mark: {on_focus_gazes}\\n\")"
   ]
  },
  {
   "cell_type": "markdown",
   "metadata": {},
   "source": [
    "***\n",
    "INFORMATION\n",
    "\n",
    "This plot shows the **centers of the stimulus of the experiment** as red dots.\n",
    "\n",
    "Also, a **scatter of the gazes of the selected experiment**, where: `{black = left, grey = up, orange = right, green = down, blue = center}`"
   ]
  },
  {
   "cell_type": "code",
   "execution_count": 67,
   "metadata": {},
   "outputs": [
    {
     "data": {
      "image/png": "[encoded data removed]",
      "text/plain": [
       "<Figure size 432x288 with 1 Axes>"
      ]
     },
     "metadata": {
      "needs_background": "light"
     },
     "output_type": "display_data"
    }
   ],
   "source": [
    "info, positions = get_marks_centroids(\"D:\\\\eye-tracker\\\\Webgazer data\\\\S1\\\\data_mCB_trimmed.txt\", \"D:\\\\eye-tracker\\\\Webgazer data\\\\S1\\\\eye tracker mCB trimmed.txt\")\n",
    "\n",
    "x_points = [660, 960, 1260, 960, 960]\n",
    "y_points = [484, 184, 484, 784, 484]\n",
    "\n",
    "plt.xlim(0, 1920)\n",
    "plt.ylim(1080-(40+18+120)-(40+25), 0)\n",
    "plt.xlabel(\"X\")\n",
    "plt.ylabel(\"Y\")\n",
    "plt.scatter(x_points, y_points, color='red')\n",
    "plt.scatter(info[0][0], np.array(info[0][1]) + (103*len(info[0][1]))/len(info[4][1]), color='black')\n",
    "plt.scatter(info[1][0], np.array(info[1][1]) + (103*len(info[1][1]))/len(info[4][1]), color='grey')\n",
    "plt.scatter(info[2][0], np.array(info[2][1]) + (103*len(info[4][1]))/len(info[2][1]), color='orange')\n",
    "plt.scatter(info[3][0], np.array(info[3][1]) + (103*len(info[3][1]))/len(info[4][1]), color='green')\n",
    "plt.scatter(info[4][0], np.array(info[4][1]) + (103*len(info[4][1]))/len(info[4][1]), color='blue')\n",
    "plt.show()"
   ]
  }
 ],
 "metadata": {
  "kernelspec": {
   "display_name": "Python 3.10.5 64-bit",
   "language": "python",
   "name": "python3"
  },
  "language_info": {
   "codemirror_mode": {
    "name": "ipython",
    "version": 3
   },
   "file_extension": ".py",
   "mimetype": "text/x-python",
   "name": "python",
   "nbconvert_exporter": "python",
   "pygments_lexer": "ipython3",
   "version": "3.10.5"
  },
  "orig_nbformat": 4,
  "vscode": {
   "interpreter": {
    "hash": "e269d7884629e7b6fa4b46f6fe56f1cba66e1ba3a0b006ef510b9bb4313c3499"
   }
  }
 },
 "nbformat": 4,
 "nbformat_minor": 2
}
